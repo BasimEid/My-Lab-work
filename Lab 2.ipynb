{
 "cells": [
  {
   "cell_type": "code",
   "execution_count": 3,
   "metadata": {},
   "outputs": [
    {
     "name": "stdout",
     "output_type": "stream",
     "text": [
      "3.8.5\n"
     ]
    }
   ],
   "source": [
    "from platform import python_version\n",
    "print(python_version())"
   ]
  },
  {
   "cell_type": "markdown",
   "metadata": {},
   "source": [
    "# 2.1 running python"
   ]
  },
  {
   "cell_type": "code",
   "execution_count": 9,
   "metadata": {},
   "outputs": [],
   "source": [
    "# filename.py\n",
    "'''\n",
    "multiple sentences\n",
    "'''\n",
    "if __name__== \"__main__\": \n",
    "    pass"
   ]
  },
  {
   "cell_type": "markdown",
   "metadata": {},
   "source": [
    "# Exercise 1: Add your information to the header at the top, then add the following code."
   ]
  },
  {
   "cell_type": "code",
   "execution_count": 10,
   "metadata": {},
   "outputs": [
    {
     "name": "stdout",
     "output_type": "stream",
     "text": [
      "Hello, world!\n"
     ]
    }
   ],
   "source": [
    "if __name__ == \"__main__\":\n",
    "     print(\"Hello, world!\") # Indent with four spaces (NOT a tab)."
   ]
  },
  {
   "cell_type": "code",
   "execution_count": 11,
   "metadata": {},
   "outputs": [
    {
     "name": "stdout",
     "output_type": "stream",
     "text": [
      "Help on built-in function print in module builtins:\n",
      "\n",
      "print(...)\n",
      "    print(value, ..., sep=' ', end='\\n', file=sys.stdout, flush=False)\n",
      "    \n",
      "    Prints the values to a stream, or to sys.stdout by default.\n",
      "    Optional keyword arguments:\n",
      "    file:  a file-like object (stream); defaults to the current sys.stdout.\n",
      "    sep:   string inserted between values, default a space.\n",
      "    end:   string appended after the last value, default a newline.\n",
      "    flush: whether to forcibly flush the stream.\n",
      "\n"
     ]
    }
   ],
   "source": [
    "help(print)"
   ]
  },
  {
   "cell_type": "markdown",
   "metadata": {},
   "source": [
    "# 1.3 Python Basics\n",
    "# Excercise 2"
   ]
  },
  {
   "cell_type": "code",
   "execution_count": 20,
   "metadata": {},
   "outputs": [
    {
     "name": "stdout",
     "output_type": "stream",
     "text": [
      "8\n"
     ]
    }
   ],
   "source": [
    "x,y=1,4\n",
    "z=x+y\n",
    "print(z)"
   ]
  },
  {
   "cell_type": "markdown",
   "metadata": {},
   "source": [
    "# Functions"
   ]
  },
  {
   "cell_type": "code",
   "execution_count": 19,
   "metadata": {},
   "outputs": [
    {
     "name": "stdout",
     "output_type": "stream",
     "text": [
      "(4, -4, 0, 0.0)\n"
     ]
    }
   ],
   "source": [
    "def mathematical_operations(x,y):\n",
    "    \n",
    "    if x==1:\n",
    "        x=0\n",
    "        add=x+y\n",
    "        subtract=x-y\n",
    "        multiplie=x*y\n",
    "        division=x/y\n",
    "    return add,subtract,multiplie,division\n",
    "    \n",
    "z=mathematical_operations(1,4)\n",
    "print(z)"
   ]
  },
  {
   "cell_type": "markdown",
   "metadata": {},
   "source": [
    "# Exercise 5\n",
    " The volume of a sphere with radius r is $$ v =  \\frac{4}{3} \\pi r^3 $$ define a\n",
    "function called sphere_volume() that accepts a single parameter r.\n",
    "Return the volume of the sphere of radius r, using 3.14159 as an\n",
    "approximation for 𝜋 (for now). To test your function, call it under the if\n",
    "__name__ == \"__main__\" clause and print the returned value. Run your file\n",
    "to see if your answer is what you expect it to be."
   ]
  },
  {
   "cell_type": "code",
   "execution_count": 21,
   "metadata": {},
   "outputs": [
    {
     "name": "stdout",
     "output_type": "stream",
     "text": [
      "523.5983333333332\n"
     ]
    }
   ],
   "source": [
    "def sphere_volume (r):\n",
    "    pi=3.14159\n",
    "    v=4/3 * pi * r**3\n",
    "    return v\n",
    "if __name__==\"__main__\":\n",
    "    volume=sphere_volume(5)\n",
    "    print(volume)\n"
   ]
  },
  {
   "cell_type": "code",
   "execution_count": 31,
   "metadata": {},
   "outputs": [
    {
     "name": "stdout",
     "output_type": "stream",
     "text": [
      "IS372Prof.Mohammed in 10\n"
     ]
    }
   ],
   "source": [
    "def information(course,Prof,level='8'):\n",
    "    print(course+Prof+\" in \"+level)\n",
    "    \n",
    "    \n",
    "information('IS372','Prof.Mohammed', str(10))"
   ]
  },
  {
   "cell_type": "code",
   "execution_count": 25,
   "metadata": {},
   "outputs": [
    {
     "data": {
      "text/plain": [
       "int"
      ]
     },
     "execution_count": 25,
     "metadata": {},
     "output_type": "execute_result"
    }
   ],
   "source": [
    "Prof=\"Al-sarem\"\n",
    "level=8\n",
    "type(Prof)\n",
    "type(level)\n"
   ]
  },
  {
   "cell_type": "code",
   "execution_count": 26,
   "metadata": {},
   "outputs": [
    {
     "name": "stdout",
     "output_type": "stream",
     "text": [
      "IS-37\n"
     ]
    }
   ],
   "source": [
    "course_name=\"IS-372 Data Mining & Data Warehousing\"\n",
    "print(course_name[0:5])"
   ]
  },
  {
   "cell_type": "code",
   "execution_count": 29,
   "metadata": {},
   "outputs": [
    {
     "name": "stdout",
     "output_type": "stream",
     "text": [
      " Data Mining & Data Warehousin\n"
     ]
    }
   ],
   "source": [
    "print(course_name[6:-1])"
   ]
  },
  {
   "cell_type": "markdown",
   "metadata": {},
   "source": [
    "# 1.4 Lists"
   ]
  },
  {
   "cell_type": "code",
   "execution_count": 30,
   "metadata": {},
   "outputs": [
    {
     "data": {
      "text/plain": [
       "4"
      ]
     },
     "execution_count": 30,
     "metadata": {},
     "output_type": "execute_result"
    }
   ],
   "source": [
    "my_list= [\"IS372 \",\"Prof.M\",10]\n",
    "my_list[2]\n",
    "my_list.append(4)\n",
    "my_list[3]\n"
   ]
  },
  {
   "cell_type": "markdown",
   "metadata": {},
   "source": [
    "# 1.5 Tuples"
   ]
  },
  {
   "cell_type": "markdown",
   "metadata": {},
   "source": [
    "# Exercise 7:\n",
    "Write a function called list_ops(). Define a list with the entries\n",
    "\"bear\", \"ant\", \"cat\", and \"dog\", in that order. Then perform the following\n",
    "operations on the list:\n",
    "1. Append \"eagle\".\n",
    "2. Replace the entry at index 2 with \"fox\".\n",
    "3. Remove (or pop) the entry at index 1.\n",
    "4. Sort the list in reverse alphabetical order.\n",
    "5. Replace \"eagle\" with \"hawk\".\n",
    "(Hint: the list’s index() method may be helpful.)\n",
    "6. Add the string \"hunter\" to the last entry in the list."
   ]
  },
  {
   "cell_type": "code",
   "execution_count": null,
   "metadata": {},
   "outputs": [],
   "source": [
    "def list_ops():\n",
    "    list=[\"bear\",\"ant\",\"cat\",\"dog\"]\n",
    "    list[3]\n",
    "    list.append(\"eagle\")\n",
    "    list[2]\n",
    "    list[]\n",
    "    "
   ]
  },
  {
   "cell_type": "markdown",
   "metadata": {},
   "source": [
    "# 1.6 Sets"
   ]
  },
  {
   "cell_type": "code",
   "execution_count": null,
   "metadata": {},
   "outputs": [],
   "source": [
    "my_set={}\n"
   ]
  },
  {
   "cell_type": "markdown",
   "metadata": {},
   "source": [
    "# 1.7 Dictionaries"
   ]
  },
  {
   "cell_type": "code",
   "execution_count": 32,
   "metadata": {},
   "outputs": [
    {
     "data": {
      "text/plain": [
       "{'key1': 10, 'key2': 5}"
      ]
     },
     "execution_count": 32,
     "metadata": {},
     "output_type": "execute_result"
    }
   ],
   "source": [
    "dic={\"key1\":10,\"key2\":5}\n",
    "dic[\"key1\"]\n",
    "\n",
    "dic"
   ]
  },
  {
   "cell_type": "code",
   "execution_count": null,
   "metadata": {},
   "outputs": [],
   "source": []
  }
 ],
 "metadata": {
  "kernelspec": {
   "display_name": "Python 3",
   "language": "python",
   "name": "python3"
  },
  "language_info": {
   "codemirror_mode": {
    "name": "ipython",
    "version": 3
   },
   "file_extension": ".py",
   "mimetype": "text/x-python",
   "name": "python",
   "nbconvert_exporter": "python",
   "pygments_lexer": "ipython3",
   "version": "3.8.5"
  }
 },
 "nbformat": 4,
 "nbformat_minor": 4
}
